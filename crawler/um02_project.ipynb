{
 "cells": [
  {
   "cell_type": "code",
   "execution_count": 3,
   "metadata": {},
   "outputs": [],
   "source": [
    "# import\n",
    "import networkx as nx\n",
    "import os\n",
    "import requests\n",
    "import pandas as pd\n",
    "from bs4 import BeautifulSoup as bs"
   ]
  },
  {
   "cell_type": "code",
   "execution_count": 2,
   "metadata": {},
   "outputs": [],
   "source": [
    "# Load .gexf\n",
    "G = nx.readwrite.gexf.read_gexf(\"diabetes-final-graph.gexf\")"
   ]
  },
  {
   "cell_type": "code",
   "execution_count": 35,
   "metadata": {},
   "outputs": [],
   "source": [
    "numbers = {\n",
    "        \"Gestational\" : 0,\n",
    "\t\t\"PreDiabetes\" : 0,\n",
    "\t\t\"Diabulimia\" : 0,\n",
    "\t\t\"Psychosocial Support\" : 0,\n",
    "\t\t\"Accessories\" : 0,\n",
    "        \"Self-management\" : 0,\n",
    "\t\t\"Complications\" : 0,\n",
    "\t\t\"Treatment\" : 0,\n",
    "\t\t\"Sport\" : 0,\n",
    "        \"Prevention\" : 0,\n",
    "\t\t\"Type1Diabetes\" : 0,\n",
    "\t\t\"Type2Diabetes\" : 0\n",
    "}"
   ]
  },
  {
   "cell_type": "code",
   "execution_count": 36,
   "metadata": {},
   "outputs": [
    {
     "data": {
      "text/plain": [
       "{'Gestational': 161,\n",
       " 'PreDiabetes': 52,\n",
       " 'Diabulimia': 8,\n",
       " 'Psychosocial Support': 321,\n",
       " 'Accessories': 21,\n",
       " 'Self-management': 407,\n",
       " 'Complications': 85,\n",
       " 'Treatment': 111,\n",
       " 'Sport': 24,\n",
       " 'Prevention': 60,\n",
       " 'Type1Diabetes': 506,\n",
       " 'Type2Diabetes': 230}"
      ]
     },
     "execution_count": 36,
     "metadata": {},
     "output_type": "execute_result"
    }
   ],
   "source": [
    "i\n",
    "for node in G.nodes():\n",
    "    for attribute in G.node[node]:\n",
    "        if (attribute in numbers.keys()) and (G.node[node][attribute] == \"true\"):\n",
    "            numbers[attribute]+=1      \n",
    "numbers"
   ]
  },
  {
   "cell_type": "code",
   "execution_count": 44,
   "metadata": {},
   "outputs": [],
   "source": [
    "labels = ['Key word','Value']\n",
    "df = pd.Series(numbers).to_frame()\n",
    "# df = pd.DataFrame.from_dict(numbers,columns=labels)\n"
   ]
  },
  {
   "cell_type": "code",
   "execution_count": 46,
   "metadata": {},
   "outputs": [],
   "source": [
    "writer = pd.ExcelWriter('data.xlsx')\n",
    "df.to_excel(writer,'data')\n",
    "writer.save()"
   ]
  },
  {
   "cell_type": "code",
   "execution_count": null,
   "metadata": {},
   "outputs": [],
   "source": []
  }
 ],
 "metadata": {
  "kernelspec": {
   "display_name": "Python 3",
   "language": "python",
   "name": "python3"
  },
  "language_info": {
   "codemirror_mode": {
    "name": "ipython",
    "version": 3
   },
   "file_extension": ".py",
   "mimetype": "text/x-python",
   "name": "python",
   "nbconvert_exporter": "python",
   "pygments_lexer": "ipython3",
   "version": "3.7.0"
  }
 },
 "nbformat": 4,
 "nbformat_minor": 2
}
