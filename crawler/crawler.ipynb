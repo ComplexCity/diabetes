{
 "cells": [
  {
   "cell_type": "markdown",
   "metadata": {},
   "source": [
    "## Level 1 Crawler algorithm"
   ]
  },
  {
   "cell_type": "markdown",
   "metadata": {},
   "source": [
    "### Before every crawl, make sure to remove the already visited addresses, then ...\n",
    "### 1. Extract all addresses to visit from a .gexf  \n",
    "### 2. For each address\n",
    "> - Create a new folder with name hashed \n",
    "> - Extract the main page as a .html and save it in the folder \n",
    "> - List all the hyperlinks contained in the page\n",
    "> > - For each sublinks, if it is a subpage of the main address (same domain), save it as .html in the folder with an incrementing number\n",
    "> - Once all html pages are saved, clean them to get the text so as to be parsed easily, extracting tags."
   ]
  },
  {
   "cell_type": "code",
   "execution_count": 1,
   "metadata": {},
   "outputs": [],
   "source": [
    "# import\n",
    "import networkx as nx\n",
    "import os\n",
    "import requests\n",
    "import pickle\n",
    "import hashlib\n",
    "import time\n",
    "import re\n",
    "from bs4 import BeautifulSoup as bs\n"
   ]
  },
  {
   "cell_type": "code",
   "execution_count": 2,
   "metadata": {},
   "outputs": [],
   "source": [
    "# Load .gexf\n",
    "G = nx.readwrite.gexf.read_gexf(\"diabetes-final-graph.gexf\")"
   ]
  },
  {
   "cell_type": "markdown",
   "metadata": {},
   "source": [
    "Extract the addresses"
   ]
  },
  {
   "cell_type": "code",
   "execution_count": 3,
   "metadata": {},
   "outputs": [
    {
     "name": "stdout",
     "output_type": "stream",
     "text": [
      "Number of website found on the gexf file:  2355\n"
     ]
    }
   ],
   "source": [
    "address_tab = set()\n",
    "i=0\n",
    "for node in G.nodes():\n",
    "    # we check if there is a homepage set\n",
    "    homepage = G.node[node]['homepage']\n",
    "    if homepage != 'null':\n",
    "        #if yes\n",
    "        address_tab.add(homepage)\n",
    "    else:\n",
    "        #else we get the name\n",
    "        address_tab.add(G.node[node]['name'])\n",
    "\n",
    "print('Number of website found on the gexf file: ',len(address_tab)) #should be 2355 if files does not change   \n",
    "#print(address_tab)"
   ]
  },
  {
   "cell_type": "markdown",
   "metadata": {},
   "source": [
    "### At this point all the websites are in the var ADDRESS_TAB"
   ]
  },
  {
   "cell_type": "code",
   "execution_count": 31,
   "metadata": {},
   "outputs": [
    {
     "name": "stdout",
     "output_type": "stream",
     "text": [
      "0  page(s) downloaded.\n",
      "Still 2355  page(s) to download out of  2355\n"
     ]
    }
   ],
   "source": [
    "# We don't want to re-download an existing folder\n",
    "# However, the name being hashed, we need to compare every name \n",
    "downloaded_websites = set()\n",
    "\n",
    "directories = os.listdir('pages/')\n",
    "for directory in directories:\n",
    "    downloaded_websites.add(directory) \n",
    "\n",
    "# Now we have all the already downloaded website BUT hashed    \n",
    "\n",
    "pending_websites = set(address_tab)    \n",
    "\n",
    "for d_site in downloaded_websites:\n",
    "    for p_site in pending_websites.copy():\n",
    "        if hashlib.md5(p_site.encode('utf-8')).hexdigest() == d_site:\n",
    "            #print(\"we remove \" + p_site)\n",
    "            #print(\"we remove \" + d_site)\n",
    "            pending_websites.remove(p_site)\n",
    "        \n",
    "# However the last found folder may not be fully downloaded\n",
    "\n",
    "\n",
    "\n",
    "#print(pending_website)\n",
    "print(len(downloaded_websites),' page(s) downloaded.')\n",
    "print('Still',len(pending_websites),' page(s) to download out of ',len(address_tab))\n",
    "\n"
   ]
  },
  {
   "cell_type": "markdown",
   "metadata": {},
   "source": [
    "### At this point :\n",
    "> - All the websites are in ADDRESS_TAB\n",
    "> - All the remaining website to download are in PENDING_WEBSITE"
   ]
  },
  {
   "cell_type": "code",
   "execution_count": 53,
   "metadata": {},
   "outputs": [
    {
     "name": "stdout",
     "output_type": "stream",
     "text": [
      "We create folder  ac67df6e51ca58d669c683630a5d5c49 for the site  http://type1sweetharp.blogspot.com\n",
      "33 sublinks of the same domain found on this page\n",
      "Treating page  1  out of  33  please wait ...\n",
      "['html', '\\n', '\\n', '\\n', '\\n', '\\n', '\\n', '\\n', '\\n', '\\n', '\\n', '\\n', '\\n', '\\n', '[if IE]><script type=\"text/javascript\" src=\"https://www.blogger.com/static/v1/jsbin/864213505-ieretrofit.js\"></script>\\n<![endif]', '\\n', '\\n', '\\n', '\\n', '\\n', '\\n', '\\n', '[if IE]> <script> (function() { var html5 = (\"abbr,article,aside,audio,canvas,datalist,details,\" + \"figure,footer,header,hgroup,mark,menu,meter,nav,output,\" + \"progress,section,time,video\").split(\\',\\'); for (var i = 0; i < html5.length; i++) { document.createElement(html5[i]); } try { document.execCommand(\\'BackgroundImageCache\\', false, true); } catch(e) {} })(); </script> <![endif]', '\\n', 'Welcome to Type 1 SweetHarp!: Customer Service....', '\\n', \"@font-face{font-family:'Coming Soon';font-style:normal;font-weight:400;src:local('Coming Soon Regular'),local('ComingSoon-Regular'),url(//fonts.gstatic.com/s/comingsoon/v9/qWcuB6mzpYL7AJ2VfdQR1t-VWDw.ttf)format('truetype');}@font-face{font-family:'Droid Sans';font-style:normal;font-weight:400;src:local('Droid Sans Regular'),local('DroidSans-Regular'),url(//fonts.gstatic.com/s/droidsans/v9/SlGVmQWMvZQIdix7AFxXkHNSaA.ttf)format('truetype');}@font-face{font-family:'Merriweather';font-style:normal;font-weight:400;src:local('Merriweather Regular'),local('Merriweather-Regular'),url(//fonts.gstatic.com/s/merriweather/v20/u-440qyriQwlOrhSvowK_l5-fCZJ.ttf)format('truetype');}@font-face{font-family:'Sunshiney';font-style:normal;font-weight:400;src:local('Sunshiney Regular'),local('Sunshiney-Regular'),url(//fonts.gstatic.com/s/sunshiney/v9/LDIwapGTLBwsS-wT4vcQFMOs.ttf)format('truetype');}@font-face{font-family:'Walter Turncoat';font-style:normal;font-weight:400;src:local('Walter Turncoat Regular'),local('WalterTurncoat-Regular'),url(//fonts.gstatic.com/s/walterturncoat/v9/snfys0Gs98ln43n0d-14ULoToe6LZxeZ.ttf)format('truetype');}\", '\\n', '<!--\\n/*-----------------------------------------------\\nBlogger Template Style\\nName:     Picture Window\\nDesigner: Blogger\\nURL:      www.blogger.com\\n----------------------------------------------- */\\n\\n/* Content\\n----------------------------------------------- */\\nbody {\\nfont: normal normal 15px Droid Sans;\\ncolor: #663399;\\nbackground: #111111 url(http://1.bp.blogspot.com/-A5G7436q_lM/TpTs36S3sRI/AAAAAAAAAE4/gxmjmbv4HF0/s0/brianna.welcome-FINAL.jpg) no-repeat fixed top center;\\n}\\nhtml body .region-inner {\\nmin-width: 0;\\nmax-width: 100%;\\nwidth: auto;\\n}\\n.content-outer {\\nfont-size: 90%;\\n}\\na:link {\\ntext-decoration:none;\\ncolor: #f6298e;\\n}\\na:visited {\\ntext-decoration:none;\\ncolor: #9966cc;\\n}\\na:hover {\\ntext-decoration:underline;\\ncolor: #8832ff;\\n}\\n.content-outer {\\nbackground: transparent none repeat scroll top left;\\n-moz-border-radius: 0;\\n-webkit-border-radius: 0;\\n-goog-ms-border-radius: 0;\\nborder-radius: 0;\\n-moz-box-shadow: 0 0 0 rgba(0, 0, 0, .15);\\n-webkit-box-shadow: 0 0 0 rgba(0, 0, 0, .15);\\n-goog-ms-box-shadow: 0 0 0 rgba(0, 0, 0, .15);\\nbox-shadow: 0 0 0 rgba(0, 0, 0, .15);\\nmargin: 20px auto;\\n}\\n.content-inner {\\npadding: 0;\\n}\\n/* Header\\n----------------------------------------------- */\\n.header-outer {\\nbackground: transparent none repeat-x scroll top left;\\n_background-image: none;\\ncolor: #ffffff;\\n-moz-border-radius: 0;\\n-webkit-border-radius: 0;\\n-goog-ms-border-radius: 0;\\nborder-radius: 0;\\n}\\n.Header img, .Header #header-inner {\\n-moz-border-radius: 0;\\n-webkit-border-radius: 0;\\n-goog-ms-border-radius: 0;\\nborder-radius: 0;\\n}\\n.header-inner .Header .titlewrapper,\\n.header-inner .Header .descriptionwrapper {\\npadding-left: 0;\\npadding-right: 0;\\n}\\n.Header h1 {\\nfont: normal normal 40px Sunshiney;\\ntext-shadow: 1px 1px 3px rgba(0, 0, 0, 0.3);\\n}\\n.Header h1 a {\\ncolor: #ffffff;\\n}\\n.Header .description {\\nfont-size: 130%;\\n}\\n/* Tabs\\n----------------------------------------------- */\\n.tabs-inner {\\nmargin: .5em 20px 0;\\npadding: 0;\\n}\\n.tabs-inner .section {\\nmargin: 0;\\n}\\n.tabs-inner .widget ul {\\npadding: 0;\\nbackground: transparent none repeat scroll bottom;\\n-moz-border-radius: 0;\\n-webkit-border-radius: 0;\\n-goog-ms-border-radius: 0;\\nborder-radius: 0;\\n}\\n.tabs-inner .widget li {\\nborder: none;\\n}\\n.tabs-inner .widget li a {\\ndisplay: inline-block;\\npadding: .5em 1em;\\nmargin-right: .25em;\\ncolor: #8e7cc3;\\nfont: normal normal 20px Merriweather;\\n-moz-border-radius: 10px 10px 0 0;\\n-webkit-border-top-left-radius: 10px;\\n-webkit-border-top-right-radius: 10px;\\n-goog-ms-border-radius: 10px 10px 0 0;\\nborder-radius: 10px 10px 0 0;\\nbackground: transparent url(https://resources.blogblog.com/blogblog/data/1kt/transparent/black50.png) repeat scroll top left;\\nborder-right: 1px solid #663399;\\n}\\n.tabs-inner .widget li:first-child a {\\npadding-left: 1.25em;\\n-moz-border-radius-topleft: 10px;\\n-moz-border-radius-bottomleft: 0;\\n-webkit-border-top-left-radius: 10px;\\n-webkit-border-bottom-left-radius: 0;\\n-goog-ms-border-top-left-radius: 10px;\\n-goog-ms-border-bottom-left-radius: 0;\\nborder-top-left-radius: 10px;\\nborder-bottom-left-radius: 0;\\n}\\n.tabs-inner .widget li.selected a,\\n.tabs-inner .widget li a:hover {\\nposition: relative;\\nz-index: 1;\\nbackground: #d5a6bd url(https://resources.blogblog.com/blogblog/data/1kt/transparent/white80.png) repeat scroll bottom;\\ncolor: #f6298e;\\n-moz-box-shadow: 0 0 3px rgba(0, 0, 0, .15);\\n-webkit-box-shadow: 0 0 3px rgba(0, 0, 0, .15);\\n-goog-ms-box-shadow: 0 0 3px rgba(0, 0, 0, .15);\\nbox-shadow: 0 0 3px rgba(0, 0, 0, .15);\\n}\\n/* Headings\\n----------------------------------------------- */\\nh2 {\\nfont: normal bold 100% Walter Turncoat;\\ntext-transform: uppercase;\\ncolor: #888888;\\nmargin: .5em 0;\\n}\\n/* Main\\n----------------------------------------------- */\\n.main-outer {\\nbackground: transparent url(https://resources.blogblog.com/blogblog/data/1kt/transparent/white80.png) repeat scroll top left;\\n-moz-border-radius: 20px 20px 0 0;\\n-webkit-border-top-left-radius: 20px;\\n-webkit-border-top-right-radius: 20px;\\n-webkit-border-bottom-left-radius: 0;\\n-webkit-border-bottom-right-radius: 0;\\n-goog-ms-border-radius: 20px 20px 0 0;\\nborder-radius: 20px 20px 0 0;\\n-moz-box-shadow: 0 1px 3px rgba(0, 0, 0, .15);\\n-webkit-box-shadow: 0 1px 3px rgba(0, 0, 0, .15);\\n-goog-ms-box-shadow: 0 1px 3px rgba(0, 0, 0, .15);\\nbox-shadow: 0 1px 3px rgba(0, 0, 0, .15);\\n}\\n.main-inner {\\npadding: 15px 20px 20px;\\n}\\n.main-inner .column-center-inner {\\npadding: 0 0;\\n}\\n.main-inner .column-left-inner {\\npadding-left: 0;\\n}\\n.main-inner .column-right-inner {\\npadding-right: 0;\\n}\\n/* Posts\\n----------------------------------------------- */\\nh3.post-title {\\nmargin: 0;\\nfont: normal normal 18px Coming Soon;\\n}\\n.comments h4 {\\nmargin: 1em 0 0;\\nfont: normal normal 18px Coming Soon;\\n}\\n.date-header span {\\ncolor: #111111;\\n}\\n.post-outer {\\nbackground-color: #ffffff;\\nborder: solid 1px #dddddd;\\n-moz-border-radius: 5px;\\n-webkit-border-radius: 5px;\\nborder-radius: 5px;\\n-goog-ms-border-radius: 5px;\\npadding: 15px 20px;\\nmargin: 0 -20px 20px;\\n}\\n.post-body {\\nline-height: 1.4;\\nfont-size: 110%;\\nposition: relative;\\n}\\n.post-header {\\nmargin: 0 0 1.5em;\\ncolor: #999999;\\nline-height: 1.6;\\n}\\n.post-footer {\\nmargin: .5em 0 0;\\ncolor: #999999;\\nline-height: 1.6;\\n}\\n#blog-pager {\\nfont-size: 140%\\n}\\n#comments .comment-author {\\npadding-top: 1.5em;\\nborder-top: dashed 1px #ccc;\\nborder-top: dashed 1px rgba(128, 128, 128, .5);\\nbackground-position: 0 1.5em;\\n}\\n#comments .comment-author:first-child {\\npadding-top: 0;\\nborder-top: none;\\n}\\n.avatar-image-container {\\nmargin: .2em 0 0;\\n}\\n/* Comments\\n----------------------------------------------- */\\n.comments .comments-content .icon.blog-author {\\nbackground-repeat: no-repeat;\\nbackground-image: url(data:image/png;base64,iVBORw0KGgoAAAANSUhEUgAAABIAAAASCAYAAABWzo5XAAAAAXNSR0IArs4c6QAAAAZiS0dEAP8A/wD/oL2nkwAAAAlwSFlzAAALEgAACxIB0t1+/AAAAAd0SU1FB9sLFwMeCjjhcOMAAAD+SURBVDjLtZSvTgNBEIe/WRRnm3U8RC1neQdsm1zSBIU9VVF1FkUguQQsD9ITmD7ECZIJSE4OZo9stoVjC/zc7ky+zH9hXwVwDpTAWWLrgS3QAe8AZgaAJI5zYAmc8r0G4AHYHQKVwII8PZrZFsBFkeRCABYiMh9BRUhnSkPTNCtVXYXURi1FpBDgArj8QU1eVXUzfnjv7yP7kwu1mYrkWlU33vs1QNu2qU8pwN0UpKoqokjWwCztrMuBhEhmh8bD5UDqur75asbcX0BGUB9/HAMB+r32hznJgXy2v0sGLBcyAJ1EK3LFcbo1s91JeLwAbwGYu7TP/3ZGfnXYPgAVNngtqatUNgAAAABJRU5ErkJggg==);\\n}\\n.comments .comments-content .loadmore a {\\nborder-top: 1px solid #8832ff;\\nborder-bottom: 1px solid #8832ff;\\n}\\n.comments .continue {\\nborder-top: 2px solid #8832ff;\\n}\\n/* Widgets\\n----------------------------------------------- */\\n.widget ul, .widget #ArchiveList ul.flat {\\npadding: 0;\\nlist-style: none;\\n}\\n.widget ul li, .widget #ArchiveList ul.flat li {\\nborder-top: dashed 1px #ccc;\\nborder-top: dashed 1px rgba(128, 128, 128, .5);\\n}\\n.widget ul li:first-child, .widget #ArchiveList ul.flat li:first-child {\\nborder-top: none;\\n}\\n.widget .post-body ul {\\nlist-style: disc;\\n}\\n.widget .post-body ul li {\\nborder: none;\\n}\\n/* Footer\\n----------------------------------------------- */\\n.footer-outer {\\ncolor:#cccccc;\\nbackground: transparent url(https://resources.blogblog.com/blogblog/data/1kt/transparent/black50.png) repeat scroll top left;\\n-moz-border-radius: 0 0 20px 20px;\\n-webkit-border-top-left-radius: 0;\\n-webkit-border-top-right-radius: 0;\\n-webkit-border-bottom-left-radius: 20px;\\n-webkit-border-bottom-right-radius: 20px;\\n-goog-ms-border-radius: 0 0 20px 20px;\\nborder-radius: 0 0 20px 20px;\\n-moz-box-shadow: 0 1px 3px rgba(0, 0, 0, .15);\\n-webkit-box-shadow: 0 1px 3px rgba(0, 0, 0, .15);\\n-goog-ms-box-shadow: 0 1px 3px rgba(0, 0, 0, .15);\\nbox-shadow: 0 1px 3px rgba(0, 0, 0, .15);\\n}\\n.footer-inner {\\npadding: 10px 20px 20px;\\n}\\n.footer-outer a {\\ncolor: #bb98ee;\\n}\\n.footer-outer a:visited {\\ncolor: #ba77ee;\\n}\\n.footer-outer a:hover {\\ncolor: #8832ff;\\n}\\n.footer-outer .widget h2 {\\ncolor: #aaaaaa;\\n}\\n/* Mobile\\n----------------------------------------------- */\\nhtml body.mobile {\\nheight: auto;\\n}\\nhtml body.mobile {\\nmin-height: 480px;\\nbackground-size: 100% auto;\\n}\\n.mobile .body-fauxcolumn-outer {\\nbackground: transparent none repeat scroll top left;\\n}\\nhtml .mobile .mobile-date-outer, html .mobile .blog-pager {\\nborder-bottom: none;\\nbackground: transparent url(https://resources.blogblog.com/blogblog/data/1kt/transparent/white80.png) repeat scroll top left;\\nmargin-bottom: 10px;\\n}\\n.mobile .date-outer {\\nbackground: transparent url(https://resources.blogblog.com/blogblog/data/1kt/transparent/white80.png) repeat scroll top left;\\n}\\n.mobile .header-outer, .mobile .main-outer,\\n.mobile .post-outer, .mobile .footer-outer {\\n-moz-border-radius: 0;\\n-webkit-border-radius: 0;\\n-goog-ms-border-radius: 0;\\nborder-radius: 0;\\n}\\n.mobile .content-outer,\\n.mobile .main-outer,\\n.mobile .post-outer {\\nbackground: inherit;\\nborder: none;\\n}\\n.mobile .content-outer {\\nfont-size: 100%;\\n}\\n.mobile-link-button {\\nbackground-color: #f6298e;\\n}\\n.mobile-link-button a:link, .mobile-link-button a:visited {\\ncolor: #ffffff;\\n}\\n.mobile-index-contents {\\ncolor: #663399;\\n}\\n.mobile .tabs-inner .PageList .widget-content {\\nbackground: #d5a6bd url(https://resources.blogblog.com/blogblog/data/1kt/transparent/white80.png) repeat scroll bottom;\\ncolor: #f6298e;\\n}\\n.mobile .tabs-inner .PageList .widget-content .pagelist-arrow {\\nborder-left: 1px solid #663399;\\n}\\n\\n-->', '\\n', '<!--\\nbody {\\nmin-width: 970px;\\n}\\n.content-outer, .content-fauxcolumn-outer, .region-inner {\\nmin-width: 970px;\\nmax-width: 970px;\\n_width: 970px;\\n}\\n.main-inner .columns {\\npadding-left: 0;\\npadding-right: 310px;\\n}\\n.main-inner .fauxcolumn-center-outer {\\nleft: 0;\\nright: 310px;\\n/* IE6 does not respect left and right together */\\n_width: expression(this.parentNode.offsetWidth -\\nparseInt(\"0\") -\\nparseInt(\"310px\") + \\'px\\');\\n}\\n.main-inner .fauxcolumn-left-outer {\\nwidth: 0;\\n}\\n.main-inner .fauxcolumn-right-outer {\\nwidth: 310px;\\n}\\n.main-inner .column-left-outer {\\nwidth: 0;\\nright: 100%;\\nmargin-left: -0;\\n}\\n.main-inner .column-right-outer {\\nwidth: 310px;\\nmargin-right: -310px;\\n}\\n#layout {\\nmin-width: 0;\\n}\\n#layout .content-outer {\\nmin-width: 0;\\nwidth: 800px;\\n}\\n#layout .region-inner {\\nmin-width: 0;\\nwidth: auto;\\n}\\nbody#layout div.add_widget {\\npadding: 8px;\\n}\\nbody#layout div.add_widget a {\\nmargin-left: 32px;\\n}\\n-->', '\\n', '\\n    body {background-image:url(http\\\\:\\\\/\\\\/1.bp.blogspot.com\\\\/-A5G7436q_lM\\\\/TpTs36S3sRI\\\\/AAAAAAAAAE4\\\\/gxmjmbv4HF0\\\\/s0\\\\/brianna.welcome-FINAL.jpg);}\\n    \\n@media (max-width: 200px) { body {background-image:url(http\\\\:\\\\/\\\\/1.bp.blogspot.com\\\\/-A5G7436q_lM\\\\/TpTs36S3sRI\\\\/AAAAAAAAAE4\\\\/gxmjmbv4HF0\\\\/w200\\\\/brianna.welcome-FINAL.jpg);}}\\n@media (max-width: 400px) and (min-width: 201px) { body {background-image:url(http\\\\:\\\\/\\\\/1.bp.blogspot.com\\\\/-A5G7436q_lM\\\\/TpTs36S3sRI\\\\/AAAAAAAAAE4\\\\/gxmjmbv4HF0\\\\/w400\\\\/brianna.welcome-FINAL.jpg);}}\\n@media (max-width: 800px) and (min-width: 401px) { body {background-image:url(http\\\\:\\\\/\\\\/1.bp.blogspot.com\\\\/-A5G7436q_lM\\\\/TpTs36S3sRI\\\\/AAAAAAAAAE4\\\\/gxmjmbv4HF0\\\\/w800\\\\/brianna.welcome-FINAL.jpg);}}\\n@media (max-width: 1200px) and (min-width: 801px) { body {background-image:url(http\\\\:\\\\/\\\\/1.bp.blogspot.com\\\\/-A5G7436q_lM\\\\/TpTs36S3sRI\\\\/AAAAAAAAAE4\\\\/gxmjmbv4HF0\\\\/w1200\\\\/brianna.welcome-FINAL.jpg);}}\\n/* Last tag covers anything over one higher than the previous max-size cap. */\\n@media (min-width: 1201px) { body {background-image:url(http\\\\:\\\\/\\\\/1.bp.blogspot.com\\\\/-A5G7436q_lM\\\\/TpTs36S3sRI\\\\/AAAAAAAAAE4\\\\/gxmjmbv4HF0\\\\/w1600\\\\/brianna.welcome-FINAL.jpg);}}\\n  ', '\\n', '\\n', \"\\n  // Supply ads personalization default for EEA readers\\n  // See https://www.blogger.com/go/adspersonalization\\n  adsbygoogle = window.adsbygoogle || [];\\n  if (typeof adsbygoogle.requestNonPersonalizedAds === 'undefined') {\\n    adsbygoogle.requestNonPersonalizedAds = 1;\\n  }\\n\", '\\n', '\\n', '\\n', \"\\n    function setAttributeOnload(object, attribute, val) {\\n      if(window.addEventListener) {\\n        window.addEventListener('load',\\n          function(){ object[attribute] = val; }, false);\\n      } else {\\n        window.attachEvent('onload', function(){ object[attribute] = val; });\\n      }\\n    }\\n  \", '\\n', '\\n', '\\n', '\\n      gapi.load(\"gapi.iframes:gapi.iframes.style.bubble\", function() {\\n        if (gapi.iframes && gapi.iframes.getContext) {\\n          gapi.iframes.getContext().openChild({\\n              url: \\'https://www.blogger.com/navbar.g?targetBlogID\\\\x3d1614110330350575031\\\\x26blogName\\\\x3dWelcome+to+Type+1+SweetHarp!\\\\x26publishMode\\\\x3dPUBLISH_MODE_BLOGSPOT\\\\x26navbarType\\\\x3dBLACK\\\\x26layoutType\\\\x3dLAYOUTS\\\\x26searchRoot\\\\x3dhttps://type1sweetharp.blogspot.com/search\\\\x26blogLocale\\\\x3den\\\\x26v\\\\x3d2\\\\x26homepageUrl\\\\x3dhttp://type1sweetharp.blogspot.com/\\\\x26targetPostID\\\\x3d2040653367853702187\\\\x26blogPostOrPageUrl\\\\x3dhttp://type1sweetharp.blogspot.com/2013/08/customer-service.html\\\\x26vt\\\\x3d8295022344114838233\\',\\n              where: document.getElementById(\"navbar-iframe-container\"),\\n              id: \"navbar-iframe\"\\n          });\\n        }\\n      });\\n    ', \"\\n(function() {\\nvar script = document.createElement('script');\\nscript.type = 'text/javascript';\\nscript.src = '//pagead2.googlesyndication.com/pagead/js/google_top_exp.js';\\nvar head = document.getElementsByTagName('head')[0];\\nif (head) {\\nhead.appendChild(script);\\n}})();\\n\", '\\n', '\\n', '\\n', '\\n', '\\n', '\\n', '\\n', '\\n', '\\n', '\\n', '\\n', '\\n', '\\n', '\\n', '\\n', '\\n', '\\n', '\\n', '\\n', '\\n', '\\n', '\\n', '\\n', '\\n', '\\n', '\\n', '\\n', '\\n', '\\n', '\\n', '\\n', '\\n', '\\n', '\\n', '\\n', '\\n', '\\n', '\\n', '\\n', '\\n', '\\n', '\\n', '\\n', '\\n', '\\n', '\\n', '\\n', '\\n', '\\n', '\\n', '\\n', '\\n', '\\n', '\\n', '\\n', '\\n', '\\n', '\\n', '\\n', '\\n', '\\n', '\\n', '\\n', '\\n', '\\n', '\\n', '\\n', '\\n', '\\n', '\\n', '\\n', '\\n', '\\n', '\\n', '\\n', '\\n', '\\n', '\\n', '\\n', '\\n', '\\n', '\\n', '\\n', 'Background', '\\n', '\\n', 'body {background-image:url(\"http://i96.photobucket.com/albums/l185/ajojo00/e3e1b02e.jpg\"); background-position: center; background-repeat: no-repeat; background-attachment: fixed; }', '\\n', '\\n', '\\n', '\\n', '\\n', '\\n', '\\n', '\\n', '\\n', '\\n', '\\n', '\\n', 'Pages', '\\n', '\\n', '\\n', '\\n', 'Home', '\\n', '\\n', '\\n', 'Diagnosis', '\\n', '\\n', '\\n', 'D Equipment', '\\n', '\\n', '\\n', 'D Info', '\\n', '\\n', '\\n', 'Our Favorite D Things', '\\n', '\\n', '\\n', 'Disclaimer', '\\n', '\\n', '\\n', 'A1C Results', '\\n', '\\n', '\\n', '\\n', '\\n', '\\n', '\\n', '\\n', '\\n', '\\n', '\\n', '\\n', '\\n', '\\n', '\\n', '\\n', '\\n', '\\n', '\\n', '\\n', '\\n', '\\n', '\\n', '\\n', '\\n', '\\n', '\\n', '\\n', '\\n', '\\n', '\\n', '\\n', '\\n', '\\n', '\\n', '\\n', '\\n', '\\n', '\\n', '\\n', '\\n', '\\n', '\\n', '\\n', '\\n', '\\n', '\\n', '\\n', '\\n', '\\n', '\\n', '\\n', '\\n', '\\n', '\\n', '\\n', '\\n', '\\n', '\\n', '\\n', '\\n', '\\n', '\\n', '\\n', '\\n', '\\n', '\\n', '\\n', '\\n', '\\n', '\\n', '\\n', '\\n', '\\n', '\\n', ' corrects IE6 width calculation ', '\\n', '\\n', '\\n', '\\n', '\\n', '\\n', '\\n', 'Friday, August 30, 2013', '\\n', '\\n', '\\n', '\\n', '\\n', '\\nCustomer Service....\\n', '\\n', '\\n', '\\n', '\\n', '\\nOh Omnipod, you and good customer service are not words that belong together in a sentence, unless the word NOT is included.\\xa0 I am a little bummed about this.\\xa0 Why you ask?\\xa0 I will share...', '\\n', \"\\nPrior to Omnipod Brianna was on Minimed pump and still uses their CGM and My Sentry.\\xa0 Anytime of the day 24/7 and even holidays they would pick up quickly.\\xa0 Sometimes- I mean usually,\\xa0 within a few minutes.\\xa0 Seriously.\\xa0 Last time I was on the phone for 7 minutes TOTAL!!\\xa0 Have we had issues with the pump?\\xa0 Sure.\\xa0 Have we had issues with the CGM?\\xa0 Yup, but they always make sure they fix it.\\xa0 I will say anytime we got an error I would call and demand a new pump.\\xa0 Minimed would have me run tests on the pump to make sure it was okay.\\xa0 If it passed the test they were okay with her continuing to use it.\\xa0 But if I felt better they would send new.\\xa0 NEXT DAY, BY NOON!\\xa0 Did you hear that next day, obviously you had to call within a certain time to get next day but still most of the time you received a new pump (okay refurbished, but still.), the next day.\\xa0 I think in the last 3.5 years I have asked for 4 new pumps.\\xa0 Some probably didn't need to be replaced but I have to sleep at night and feel safe that the pump is not going to fail on her.\\xa0 The last time we replaced it, two weeks ago, it was because she dropped it and cracked it.\\xa0 OUR fault and they asked no questions, just agreed to send a new one.\\xa0 They also let her change pump colors from purple to pink- you know pumps can be a fashion accessory right?!?\\xa0 I received that pump with in 18 hours of my seven minute call.\\xa0 \", '\\n', '\\nSo welcome to Omnipod and their customer service or lack of.\\xa0 I will go over the stats with them...\\xa0 We have had one occlusion, 5 failed pods and SIX left stuck key detected.\\xa0 Sigh, where do I begin with their hold time?\\xa0 I think I have been on HOLD more with them then I have actually talked with people from Minimed, no joke.', '\\n', '\\nOkay, of course in the middle of writing this Omnipod calls me from their billing department to try to work with me over insurance.\\xa0 So I guess billing or claims department you rock, customer service, rant is continuing with you!', '\\n', \"\\nSo back to the hold time.\\xa0 I don't mind waiting, it can be expected I guess. But the other day I was on hold no lie, OVER an hour and a half OVER 90 MINUTES!!! \\xa0 It got to the point I just wanted to keep waiting to see how long it would take for them to finally pick up!\\xa0 There have been times that I am in a hurry and just want to report a failed pod and gave up.\\xa0 Hey, I do have a life and am totally annoyed by their music.\\xa0 The last time I called I talked with the representative about the hold time, she said they are overwhelmed with calls and are trying to keep up but just can't.\\xa0 My thought is it might be time to add more people!\\xa0 She did say the best time to call is the weekend and late at night.\\xa0 That's fine and all but some issues need quick response time!\", '\\n', '\\n', '\\n', '\\n', '\\n', 'Not the text I wanted to get!', '\\n', '\\n', \"\\nSo back to all the issues.\\xa0 I have called each time there was a stuck key, I was offered a new PDM the last two times I called, but turned it down as I didn't want to move all the information over and lose how it tracks all her data for averages and that.\\xa0 Silly reasons, but I didn't want too.\\xa0 BUT today's stuck key happened at school and she wasn't happy.\\xa0 She said it wouldn't stop beeping in the classroom so went to the nurse.\\xa0 The nurse called and I went there fix it and to call insulet.\\xa0 I was only, on hold 8 minutes today.\\xa0 Shocking!\\xa0 I explained the situation and thought it would be a quick no problem we will send a new one, NOPE!\\xa0 She wanted to know how many, what's happening to cause them and then said well maybe your daughter is holding the buttons too long at school.\\xa0 HELLO!?!\\xa0 They are happening to me too at home!\\xa0 I was a little annoyed that she was thinking Brianna was causing this.\\xa0 I reminded her she was in school and didn't like the attention the beeping PDM caused, so NO she was not doing anything wrong.\\xa0 She then puts me on hold and talks with her supervision.\\xa0 More questions, back on hold and finally says, we can replace it if you need us to.\\xa0 Yes, that's why I called.\\xa0 I want you to remember that with Omnipod the PDM is EVERYTHING, it is the meter and the way you bolus.\\xa0 So if it dies you are basically out of luck!\\xa0 So she says we can send a new one, is grounds that takes 7-10 days okay??\\xa0 I said, no way.\\xa0 This is interfering with her school and we need it to work properly, I can't be going to school to fix it.\\xa0 She says fine how about Saturday? (today is Thursday)\\xa0 I say fine.\\xa0 Now do you remember MM and when they would send their products?\\xa0 NEXT DAY!\\xa0 I called about the same time so I know it is possible to get it here tomorrow, but Saturday works.\", '\\n', \"\\nI don't regret switching her to Omnipod I just am disappointed in their customer service.\\xa0 Pumping and supplies are not cheap, and kinda expect great customer service.\\xa0 And yes, I probably should have taken a new PDM the first time it was offered, but thought and hoped it wouldn't be an issues.\", '\\n', '\\nThanks again for reading!\\xa0 Please leave comments we love reading them and follow my blog!\\xa0 I would eventually like to start doing giveaways but need more followers.\\xa0 ', '\\n', '\\n', '\\n', '\\n', '\\n', '\\n', '\\n', '\\n', '\\n', '\\nPosted by\\n', 'Kelly Harp', '\\n', '\\n', '\\nat\\n', '6:38 AM', '\\n', '\\n', '\\n', '\\n', '\\n', '\\n', '\\n', '\\n', '\\n', '\\n', '\\n', '\\n', 'Email This', 'BlogThis!', 'Share to Twitter', 'Share to Facebook', 'Share to Pinterest', '\\n', '\\n', '\\n', '\\n', '\\n', '\\n', '\\n', '\\n', '\\n', '\\n', '\\n', '4 comments:', '\\n', '\\n', '\\n', '\\n    (function() {\\n      var items = null;\\n      var msgs = null;\\n      var config = {};\\n\\n// <![CDATA[\\n      var cursor = null;\\n      if (items && items.length > 0) {\\n        cursor = parseInt(items[items.length - 1].timestamp) + 1;\\n      }\\n\\n      var bodyFromEntry = function(entry) {\\n        var text = (entry &&\\n                    ((entry.content && entry.content.$t) ||\\n                     (entry.summary && entry.summary.$t))) ||\\n            \\'\\';\\n        if (entry && entry.gd$extendedProperty) {\\n          for (var k in entry.gd$extendedProperty) {\\n            if (entry.gd$extendedProperty[k].name == \\'blogger.contentRemoved\\') {\\n              return \\'<span class=\"deleted-comment\">\\' + text + \\'</span>\\';\\n            }\\n          }\\n        }\\n        return text;\\n      }\\n\\n      var parse = function(data) {\\n        cursor = null;\\n        var comments = [];\\n        if (data && data.feed && data.feed.entry) {\\n          for (var i = 0, entry; entry = data.feed.entry[i]; i++) {\\n            var comment = {};\\n            // comment ID, parsed out of the original id format\\n            var id = /blog-(\\\\d+).post-(\\\\d+)/.exec(entry.id.$t);\\n            comment.id = id ? id[2] : null;\\n            comment.body = bodyFromEntry(entry);\\n            comment.timestamp = Date.parse(entry.published.$t) + \\'\\';\\n            if (entry.author && entry.author.constructor === Array) {\\n              var auth = entry.author[0];\\n              if (auth) {\\n                comment.author = {\\n                  name: (auth.name ? auth.name.$t : undefined),\\n                  profileUrl: (auth.uri ? auth.uri.$t : undefined),\\n                  avatarUrl: (auth.gd$image ? auth.gd$image.src : undefined)\\n                };\\n              }\\n            }\\n            if (entry.link) {\\n              if (entry.link[2]) {\\n                comment.link = comment.permalink = entry.link[2].href;\\n              }\\n              if (entry.link[3]) {\\n                var pid = /.*comments\\\\/default\\\\/(\\\\d+)\\\\?.*/.exec(entry.link[3].href);\\n                if (pid && pid[1]) {\\n                  comment.parentId = pid[1];\\n                }\\n              }\\n            }\\n            comment.deleteclass = \\'item-control blog-admin\\';\\n            if (entry.gd$extendedProperty) {\\n              for (var k in entry.gd$extendedProperty) {\\n                if (entry.gd$extendedProperty[k].name == \\'blogger.itemClass\\') {\\n                  comment.deleteclass += \\' \\' + entry.gd$extendedProperty[k].value;\\n                } else if (entry.gd$extendedProperty[k].name == \\'blogger.displayTime\\') {\\n                  comment.displayTime = entry.gd$extendedProperty[k].value;\\n                }\\n              }\\n            }\\n            comments.push(comment);\\n          }\\n        }\\n        return comments;\\n      };\\n\\n      var paginator = function(callback) {\\n        if (hasMore()) {\\n          var url = config.feed + \\'?alt=json&v=2&orderby=published&reverse=false&max-results=50\\';\\n          if (cursor) {\\n            url += \\'&published-min=\\' + new Date(cursor).toISOString();\\n          }\\n          window.bloggercomments = function(data) {\\n            var parsed = parse(data);\\n            cursor = parsed.length < 50 ? null\\n                : parseInt(parsed[parsed.length - 1].timestamp) + 1\\n            callback(parsed);\\n            window.bloggercomments = null;\\n          }\\n          url += \\'&callback=bloggercomments\\';\\n          var script = document.createElement(\\'script\\');\\n          script.type = \\'text/javascript\\';\\n          script.src = url;\\n          document.getElementsByTagName(\\'head\\')[0].appendChild(script);\\n        }\\n      };\\n      var hasMore = function() {\\n        return !!cursor;\\n      };\\n      var getMeta = function(key, comment) {\\n        if (\\'iswriter\\' == key) {\\n          var matches = !!comment.author\\n              && comment.author.name == config.authorName\\n              && comment.author.profileUrl == config.authorUrl;\\n          return matches ? \\'true\\' : \\'\\';\\n        } else if (\\'deletelink\\' == key) {\\n          return config.baseUri + \\'/delete-comment.g?blogID=\\'\\n               + config.blogId + \\'&postID=\\' + comment.id;\\n        } else if (\\'deleteclass\\' == key) {\\n          return comment.deleteclass;\\n        }\\n        return \\'\\';\\n      };\\n\\n      var replybox = null;\\n      var replyUrlParts = null;\\n      var replyParent = undefined;\\n\\n      var onReply = function(commentId, domId) {\\n        if (replybox == null) {\\n          // lazily cache replybox, and adjust to suit this style:\\n          replybox = document.getElementById(\\'comment-editor\\');\\n          if (replybox != null) {\\n            replybox.height = \\'250px\\';\\n            replybox.style.display = \\'block\\';\\n            replyUrlParts = replybox.src.split(\\'#\\');\\n          }\\n        }\\n        if (replybox && (commentId !== replyParent)) {\\n          replybox.src = \\'\\';\\n          document.getElementById(domId).insertBefore(replybox, null);\\n          replybox.src = replyUrlParts[0]\\n              + (commentId ? \\'&parentID=\\' + commentId : \\'\\')\\n              + \\'#\\' + replyUrlParts[1];\\n          replyParent = commentId;\\n        }\\n      };\\n\\n      var hash = (window.location.hash || \\'#\\').substring(1);\\n      var startThread, targetComment;\\n      if (/^comment-form_/.test(hash)) {\\n        startThread = hash.substring(\\'comment-form_\\'.length);\\n      } else if (/^c[0-9]+$/.test(hash)) {\\n        targetComment = hash.substring(1);\\n      }\\n\\n      // Configure commenting API:\\n      var configJso = {\\n        \\'maxDepth\\': config.maxThreadDepth\\n      };\\n      var provider = {\\n        \\'id\\': config.postId,\\n        \\'data\\': items,\\n        \\'loadNext\\': paginator,\\n        \\'hasMore\\': hasMore,\\n        \\'getMeta\\': getMeta,\\n        \\'onReply\\': onReply,\\n        \\'rendered\\': true,\\n        \\'initComment\\': targetComment,\\n        \\'initReplyThread\\': startThread,\\n        \\'config\\': configJso,\\n        \\'messages\\': msgs\\n      };\\n\\n      var render = function() {\\n        if (window.goog && window.goog.comments) {\\n          var holder = document.getElementById(\\'comment-holder\\');\\n          window.goog.comments.render(holder, provider);\\n        }\\n      };\\n\\n      // render now, or queue to render when library loads:\\n      if (window.goog && window.goog.comments) {\\n        render();\\n      } else {\\n        window.goog = window.goog || {};\\n        window.goog.comments = window.goog.comments || {};\\n        window.goog.comments.loadQueue = window.goog.comments.loadQueue || [];\\n        window.goog.comments.loadQueue.push(render);\\n      }\\n    })();\\n// ]]>\\n  ', '\\n', '\\n', 'Dee Dee Diabetic', 'August 31, 2013 at 12:20 PM', 'Thank you for sharing about the customer service issues and comparing to medtronic...Customer service is very important to us pumpers. ', 'Reply', 'Delete', 'Replies', 'Reply', 'Lora', 'August 31, 2013 at 12:31 PM', 'hmmm... we have considered the cut the cord program, but I dont have time to be on the phone for long periods of time. I think I have a  min limit!!!!', 'Reply', 'Delete', 'Replies', 'Reply', 'Misty', 'September 1, 2013 at 8:20 PM', 'Was just thinking about you guys and wondering how school was going with the pod. I hope that Insulet will take note and staff more people in their customer service dept. it is critical for those with life saving devices.', 'Reply', 'Delete', 'Replies', 'Reply', 'Aaron Grey', 'April 13, 2014 at 3:30 PM', 'Hi, Nice site I enjoyed reading it. Thanks for sharing. Would you please consider a link to my website on your page. Please email me back.   Thanks!', ' ', 'Aaron Grey', 'aarongrey112 at gmail.com', 'Reply', 'Delete', 'Replies', 'Reply', 'Add comment', 'Load more...', '\\n', '\\n', '\\n', '\\n', '\\n', '\\n', '\\n', '\\n', '\\n', '\\n', '\\n', \"\\n      BLOG_CMT_createIframe('https://www.blogger.com/rpc_relay.html');\\n    \", '\\n', '\\n', '\\n', '\\n', '\\n', '\\n', '\\n', '\\n', '\\n', '\\n', '\\n', '\\n', '\\n', 'Newer Post', '\\n', '\\n', '\\n', 'Older Post', '\\n', '\\n', 'Home', '\\n', '\\n', '\\n', '\\n', '\\nSubscribe to:\\n', 'Post Comments (Atom)', '\\n', '\\n', '\\n', '\\n', '\\n', '\\n', '\\n', '\\n', '\\n', '\\n', '\\n', '\\n', '\\n', '\\n', '\\n', '\\n', 'About Me', '\\n', '\\n', '\\n', '\\n', '\\n', '\\nKelly Harp\\n', '\\n', '\\n', '\\n', '\\n', '\\n', 'View my complete profile', '\\n', '\\n', '\\n', '\\n', '\\n', '\\n', '\\n', '\\n', '\\n', '\\n', '\\n', '\\n', 'Blog Archive', '\\n', '\\n', '\\n', '\\n', '\\n', '\\n', '\\n', '\\n\\n        ▼\\xa0\\n      \\n', '\\n', '\\n', '\\n2013\\n', '\\n', '(9)', '\\n', '\\n', '\\n', '\\n', '\\n\\n        ►\\xa0\\n      \\n', '\\n', '\\n', '\\nSeptember\\n', '\\n', '(1)', '\\n', '\\n', '\\n', '\\n', '\\n', '\\n', '\\n\\n        ▼\\xa0\\n      \\n', '\\n', '\\n', '\\nAugust\\n', '\\n', '(4)', '\\n', '\\n', 'Customer Service....', '\\n', 'First few days of school....', '\\n', 'Ready for School....', '\\n', 'Our Almost Wordless Wednesday Post.....', '\\n', '\\n', '\\n', '\\n', '\\n', '\\n', '\\n', '\\n\\n        ►\\xa0\\n      \\n', '\\n', '\\n', '\\nJuly\\n', '\\n', '(4)', '\\n', '\\n', '\\n', '\\n', '\\n', '\\n', '\\n', '\\n', '\\n\\n        ►\\xa0\\n      \\n', '\\n', '\\n', '\\n2012\\n', '\\n', '(7)', '\\n', '\\n', '\\n', '\\n', '\\n\\n        ►\\xa0\\n      \\n', '\\n', '\\n', '\\nAugust\\n', '\\n', '(2)', '\\n', '\\n', '\\n', '\\n', '\\n', '\\n', '\\n\\n        ►\\xa0\\n      \\n', '\\n', '\\n', '\\nJuly\\n', '\\n', '(1)', '\\n', '\\n', '\\n', '\\n', '\\n', '\\n', '\\n\\n        ►\\xa0\\n      \\n', '\\n', '\\n', '\\nMay\\n', '\\n', '(1)', '\\n', '\\n', '\\n', '\\n', '\\n', '\\n', '\\n\\n        ►\\xa0\\n      \\n', '\\n', '\\n', '\\nFebruary\\n', '\\n', '(1)', '\\n', '\\n', '\\n', '\\n', '\\n', '\\n', '\\n\\n        ►\\xa0\\n      \\n', '\\n', '\\n', '\\nJanuary\\n', '\\n', '(2)', '\\n', '\\n', '\\n', '\\n', '\\n', '\\n', '\\n', '\\n', '\\n\\n        ►\\xa0\\n      \\n', '\\n', '\\n', '\\n2011\\n', '\\n', '(9)', '\\n', '\\n', '\\n', '\\n', '\\n\\n        ►\\xa0\\n      \\n', '\\n', '\\n', '\\nDecember\\n', '\\n', '(2)', '\\n', '\\n', '\\n', '\\n', '\\n', '\\n', '\\n\\n        ►\\xa0\\n      \\n', '\\n', '\\n', '\\nNovember\\n', '\\n', '(3)', '\\n', '\\n', '\\n', '\\n', '\\n', '\\n', '\\n\\n        ►\\xa0\\n      \\n', '\\n', '\\n', '\\nOctober\\n', '\\n', '(4)', '\\n', '\\n', '\\n', '\\n', '\\n', '\\n', '\\n', '\\n', '\\n', '\\n', '\\n', '\\n', '\\n', '\\n', '\\n', '\\n', '\\n', '\\n', '\\n', '\\n', '\\n', '\\n', '\\n', 'Other Diabetes Blogs', '\\n', '\\n', '\\n', '\\n', '\\n', '\\n', '\\n', '\\n', '\\n', '\\n', '\\nThe Princess and The Pump: A Type 1 Diabetes Blog', '\\n', '\\n', '\\n', '\\n', \"\\nWhen Your Invisible Illness Isn't as Invisible As You'd Like\\n\", '\\n', '\\n', '\\n2 years ago\\n', '\\n', '\\n', '\\n', '\\n', '\\n', '\\n', '\\n', '\\n', '\\n', '\\n', '\\n', '\\n', '\\n', '\\n', '\\n', '\\n', '\\n', '\\n', '\\n', '\\n', '\\n', '\\n', '\\n', '\\n', '\\n', '\\n', 'Followers', '\\n', '\\n', '\\n', '\\n', '\\n', '\\n', '\\n    window.followersIframe = null;\\n    function followersIframeOpen(url) {\\n      gapi.load(\"gapi.iframes\", function() {\\n        if (gapi.iframes && gapi.iframes.getContext) {\\n          window.followersIframe = gapi.iframes.getContext().openChild({\\n            url: url,\\n            where: document.getElementById(\"followers-iframe-container\"),\\n            messageHandlersFilter: gapi.iframes.CROSS_ORIGIN_IFRAMES_FILTER,\\n            messageHandlers: {\\n              \\'_ready\\': function(obj) {\\n                window.followersIframe.getIframeEl().height = obj.height;\\n              },\\n              \\'reset\\': function() {\\n                window.followersIframe.close();\\n                followersIframeOpen(\"https://www.blogger.com/followers.g?blogID\\\\x3d1614110330350575031\\\\x26colors\\\\x3dCgt0cmFuc3BhcmVudBILdHJhbnNwYXJlbnQaByM2NjMzOTkiByNmNjI5OGUqC3RyYW5zcGFyZW50MgcjODg4ODg4OgcjNjYzMzk5QgcjZjYyOThlSgcjMDAwMDAwUgcjZjYyOThlWgt0cmFuc3BhcmVudA%3D%3D\\\\x26pageSize\\\\x3d21\\\\x26postID\\\\x3d2040653367853702187\\\\x26origin\\\\x3dhttp://type1sweetharp.blogspot.com/\");\\n              },\\n              \\'open\\': function(url) {\\n                window.followersIframe.close();\\n                followersIframeOpen(url);\\n              },\\n              \\'blogger-ping\\': function() {\\n              }\\n            }\\n          });\\n        }\\n      });\\n    }\\n    followersIframeOpen(\"https://www.blogger.com/followers.g?blogID\\\\x3d1614110330350575031\\\\x26colors\\\\x3dCgt0cmFuc3BhcmVudBILdHJhbnNwYXJlbnQaByM2NjMzOTkiByNmNjI5OGUqC3RyYW5zcGFyZW50MgcjODg4ODg4OgcjNjYzMzk5QgcjZjYyOThlSgcjMDAwMDAwUgcjZjYyOThlWgt0cmFuc3BhcmVudA%3D%3D\\\\x26pageSize\\\\x3d21\\\\x26postID\\\\x3d2040653367853702187\\\\x26origin\\\\x3dhttp://type1sweetharp.blogspot.com/\");\\n  ', '\\n', '\\n', '\\n', '\\n', '\\n', '\\n', '\\n', '\\n', '\\n', '\\n', '\\n', '\\n', '\\n', '\\n', '\\n', '\\n', '\\n', '\\n', '\\n', ' columns ', '\\n', '\\n', ' main ', '\\n', '\\n', '\\n', '\\n', '\\n', '\\n', '\\n', '\\n', '\\n', '\\n', '\\n', '\\n', '\\n', '\\n', '\\n', '\\n', '\\n', '\\n', '\\n', '\\n', '\\n', '\\n', '\\n', '\\n', '\\n', '\\n', '\\n', '\\n', '\\n', '\\n', ' outside of the include in order to lock Attribution widget ', '\\n', '\\n', '\\nPicture Window theme. Powered by ', 'Blogger', '.\\n', '\\n', '\\n', '\\n', '\\n', '\\n', '\\n', '\\n', '\\n', '\\n', '\\n', '\\n', '\\n', '\\n', '\\n', '\\n', '\\n', '\\n', '\\n', '\\n', ' content ', '\\n', '\\n', '\\n', '\\n', '\\n', '\\n', '\\n', '\\n', '\\n', \"\\n    window.setTimeout(function() {\\n        document.body.className = document.body.className.replace('loading', '');\\n      }, 10);\\n  \", '\\n', '\\n', 'Il est de votre ressort d\\\\x27informer les visiteurs \\\\xe0 propos des cookies utilis\\\\xe9s et des donn\\\\xe9es collect\\\\xe9es sur votre blog. Blogger met \\\\xe0 votre disposition une notification standard que vous pouvez personnaliser, remplacer ou afficher telle quelle sur votre blog. Rendez-vous sur http://www.blogger.com/go/cookiechoices pour obtenir de plus amples informations.', '\\n', '\\n', \"\\n    document.addEventListener('DOMContentLoaded', function(event) {\\n      window.cookieChoices && cookieChoices.showCookieConsentBar && cookieChoices.showCookieConsentBar(\\n          (window.cookieOptions && cookieOptions.msg) || 'Ce site utilise des cookies provenant de Google pour fournir ses services et analyser le trafic. Votre adresse\\\\xa0IP et votre user-agent, ainsi que des statistiques relatives aux performances et \\\\xe0 la s\\\\xe9curit\\\\xe9, sont transmis \\\\xe0 Google afin d\\\\x27assurer un service de qualit\\\\xe9, de g\\\\xe9n\\\\xe9rer des statistiques d\\\\x27utilisation, et de d\\\\xe9tecter et de r\\\\xe9soudre les probl\\\\xe8mes d\\\\x27abus.',\\n          (window.cookieOptions && cookieOptions.close) || 'OK',\\n          (window.cookieOptions && cookieOptions.learn) || 'En savoir plus',\\n          (window.cookieOptions && cookieOptions.link) || 'https://www.blogger.com/go/blogspot-cookies');\\n    });\\n  \", '\\n', '\\n', \"\\nwindow['__wavt'] = 'AOuZoY7qfBKh8BgDhn7I5Ai_QOaNAo86TA:1551707878501';_WidgetManager._Init('//www.blogger.com/rearrange?blogID\\\\x3d1614110330350575031','//type1sweetharp.blogspot.com/2013/08/customer-service.html','1614110330350575031');\\n_WidgetManager._SetDataContext([{'name': 'blog', 'data': {'blogId': '1614110330350575031', 'title': 'Welcome to Type 1 SweetHarp!', 'url': 'http://type1sweetharp.blogspot.com/2013/08/customer-service.html', 'canonicalUrl': 'http://type1sweetharp.blogspot.com/2013/08/customer-service.html', 'homepageUrl': 'http://type1sweetharp.blogspot.com/', 'searchUrl': 'http://type1sweetharp.blogspot.com/search', 'canonicalHomepageUrl': 'http://type1sweetharp.blogspot.com/', 'blogspotFaviconUrl': 'http://type1sweetharp.blogspot.com/favicon.ico', 'bloggerUrl': 'https://www.blogger.com', 'hasCustomDomain': false, 'httpsEnabled': true, 'enabledCommentProfileImages': true, 'gPlusViewType': 'FILTERED_POSTMOD', 'adultContent': false, 'analyticsAccountNumber': '', 'encoding': 'UTF-8', 'locale': 'en', 'localeUnderscoreDelimited': 'en', 'languageDirection': 'ltr', 'isPrivate': false, 'isMobile': false, 'isMobileRequest': false, 'mobileClass': '', 'isPrivateBlog': false, 'feedLinks': '\\\\x3clink rel\\\\x3d\\\\x22alternate\\\\x22 type\\\\x3d\\\\x22application/atom+xml\\\\x22 title\\\\x3d\\\\x22Welcome to Type 1 SweetHarp! - Atom\\\\x22 href\\\\x3d\\\\x22http://type1sweetharp.blogspot.com/feeds/posts/default\\\\x22 /\\\\x3e\\\\n\\\\x3clink rel\\\\x3d\\\\x22alternate\\\\x22 type\\\\x3d\\\\x22application/rss+xml\\\\x22 title\\\\x3d\\\\x22Welcome to Type 1 SweetHarp! - RSS\\\\x22 href\\\\x3d\\\\x22http://type1sweetharp.blogspot.com/feeds/posts/default?alt\\\\x3drss\\\\x22 /\\\\x3e\\\\n\\\\x3clink rel\\\\x3d\\\\x22service.post\\\\x22 type\\\\x3d\\\\x22application/atom+xml\\\\x22 title\\\\x3d\\\\x22Welcome to Type 1 SweetHarp! - Atom\\\\x22 href\\\\x3d\\\\x22https://www.blogger.com/feeds/1614110330350575031/posts/default\\\\x22 /\\\\x3e\\\\n\\\\n\\\\x3clink rel\\\\x3d\\\\x22alternate\\\\x22 type\\\\x3d\\\\x22application/atom+xml\\\\x22 title\\\\x3d\\\\x22Welcome to Type 1 SweetHarp! - Atom\\\\x22 href\\\\x3d\\\\x22http://type1sweetharp.blogspot.com/feeds/2040653367853702187/comments/default\\\\x22 /\\\\x3e\\\\n', 'meTag': '', 'googleProfileUrl': 'https://plus.google.com/108923026545010327465', 'adsenseHostId': 'ca-host-pub-1556223355139109', 'adsenseHasAds': false, 'ieCssRetrofitLinks': '\\\\x3c!--[if IE]\\\\x3e\\\\x3cscript type\\\\x3d\\\\x22text/javascript\\\\x22 src\\\\x3d\\\\x22https://www.blogger.com/static/v1/jsbin/864213505-ieretrofit.js\\\\x22\\\\x3e\\\\x3c/script\\\\x3e\\\\n\\\\x3c![endif]--\\\\x3e', 'view': '', 'dynamicViewsCommentsSrc': '//www.blogblog.com/dynamicviews/4224c15c4e7c9321/js/comments.js', 'dynamicViewsScriptSrc': '//www.blogblog.com/dynamicviews/51bb6f2afb66c7db', 'plusOneApiSrc': 'https://apis.google.com/js/plusone.js', 'disableGComments': true, 'sharing': {'platforms': [{'name': 'Get link', 'key': 'link', 'shareMessage': 'Get link', 'target': ''}, {'name': 'Facebook', 'key': 'facebook', 'shareMessage': 'Share to Facebook', 'target': 'facebook'}, {'name': 'BlogThis!', 'key': 'blogThis', 'shareMessage': 'BlogThis!', 'target': 'blog'}, {'name': 'Twitter', 'key': 'twitter', 'shareMessage': 'Share to Twitter', 'target': 'twitter'}, {'name': 'Pinterest', 'key': 'pinterest', 'shareMessage': 'Share to Pinterest', 'target': 'pinterest'}, {'name': 'Email', 'key': 'email', 'shareMessage': 'Email', 'target': 'email'}], 'disableGooglePlus': true, 'googlePlusShareButtonWidth': 300, 'googlePlusBootstrap': '\\\\x3cscript type\\\\x3d\\\\x22text/javascript\\\\x22\\\\x3ewindow.___gcfg \\\\x3d {\\\\x27lang\\\\x27: \\\\x27en\\\\x27};\\\\x3c/script\\\\x3e'}, 'hasCustomJumpLinkMessage': false, 'jumpLinkMessage': 'Read more', 'pageType': 'item', 'postId': '2040653367853702187', 'postImageThumbnailUrl': 'http://3.bp.blogspot.com/-f1axLclBJHI/Uh-SjeCcc4I/AAAAAAAAAZQ/gzAqYCpTRqw/s72-c/016.PNG', 'postImageUrl': 'http://3.bp.blogspot.com/-f1axLclBJHI/Uh-SjeCcc4I/AAAAAAAAAZQ/gzAqYCpTRqw/s320/016.PNG', 'pageName': 'Customer Service....', 'pageTitle': 'Welcome to Type 1 SweetHarp!: Customer Service....'}}, {'name': 'features', 'data': {'sharing_get_link_dialog': 'true', 'sharing_native': 'false'}}, {'name': 'messages', 'data': {'edit': 'Edit', 'linkCopiedToClipboard': 'Link copied to clipboard!', 'ok': 'Ok', 'postLink': 'Post Link'}}, {'name': 'template', 'data': {'name': 'Picture Window', 'localizedName': 'Picture Window', 'isResponsive': false, 'isAlternateRendering': false, 'isCustom': false, 'variant': 'open', 'variantId': 'open'}}, {'name': 'view', 'data': {'classic': {'name': 'classic', 'url': '?view\\\\x3dclassic'}, 'flipcard': {'name': 'flipcard', 'url': '?view\\\\x3dflipcard'}, 'magazine': {'name': 'magazine', 'url': '?view\\\\x3dmagazine'}, 'mosaic': {'name': 'mosaic', 'url': '?view\\\\x3dmosaic'}, 'sidebar': {'name': 'sidebar', 'url': '?view\\\\x3dsidebar'}, 'snapshot': {'name': 'snapshot', 'url': '?view\\\\x3dsnapshot'}, 'timeslide': {'name': 'timeslide', 'url': '?view\\\\x3dtimeslide'}, 'isMobile': false, 'title': 'Customer Service....', 'description': 'Oh Omnipod, you and good customer service are not words that belong together in a sentence, unless the word NOT is included.&#160; I am a little ...', 'featuredImage': 'http://3.bp.blogspot.com/-f1axLclBJHI/Uh-SjeCcc4I/AAAAAAAAAZQ/gzAqYCpTRqw/s320/016.PNG', 'url': 'http://type1sweetharp.blogspot.com/2013/08/customer-service.html', 'type': 'item', 'isSingleItem': true, 'isMultipleItems': false, 'isError': false, 'isPage': false, 'isPost': true, 'isHomepage': false, 'isArchive': false, 'isLabelSearch': false, 'postId': 2040653367853702187}}]);\\n_WidgetManager._RegisterWidget('_NavbarView', new _WidgetInfo('Navbar1', 'navbar', document.getElementById('Navbar1'), {}, 'displayModeFull'));\\n_WidgetManager._RegisterWidget('_HeaderView', new _WidgetInfo('Header1', 'header', document.getElementById('Header1'), {}, 'displayModeFull'));\\n_WidgetManager._RegisterWidget('_HTMLView', new _WidgetInfo('HTML1', 'crosscol-overflow', document.getElementById('HTML1'), {}, 'displayModeFull'));\\n_WidgetManager._RegisterWidget('_PageListView', new _WidgetInfo('PageList1', 'crosscol-overflow', document.getElementById('PageList1'), {'title': 'Pages', 'links': [{'isCurrentPage': false, 'href': 'http://type1sweetharp.blogspot.com/', 'title': 'Home'}, {'isCurrentPage': false, 'href': 'http://type1sweetharp.blogspot.com/p/diagnosis.html', 'id': '2290365710049007965', 'title': 'Diagnosis'}, {'isCurrentPage': false, 'href': 'http://type1sweetharp.blogspot.com/p/d-equipment.html', 'id': '7571199841758970927', 'title': 'D Equipment'}, {'isCurrentPage': false, 'href': 'http://type1sweetharp.blogspot.com/p/d-info.html', 'id': '5353284907873537500', 'title': 'D Info'}, {'isCurrentPage': false, 'href': 'http://type1sweetharp.blogspot.com/p/our-favorite-d-things.html', 'id': '2214323901346577263', 'title': 'Our Favorite D Things'}, {'isCurrentPage': false, 'href': 'http://type1sweetharp.blogspot.com/p/disclaimer.html', 'id': '8803593395134855748', 'title': 'Disclaimer'}, {'isCurrentPage': false, 'href': 'http://type1sweetharp.blogspot.com/p/a1c-results.html', 'id': '8758043593717618675', 'title': 'A1C Results'}], 'mobile': false}, 'displayModeFull'));\\n_WidgetManager._RegisterWidget('_BlogView', new _WidgetInfo('Blog1', 'main', document.getElementById('Blog1'), {'cmtInteractionsEnabled': false, 'lightboxEnabled': true, 'lightboxModuleUrl': 'https://www.blogger.com/static/v1/jsbin/2498897053-lbx.js', 'lightboxCssUrl': 'https://www.blogger.com/static/v1/v-css/368954415-lightbox_bundle.css'}, 'displayModeFull'));\\n_WidgetManager._RegisterWidget('_ProfileView', new _WidgetInfo('Profile1', 'sidebar-right-1', document.getElementById('Profile1'), {}, 'displayModeFull'));\\n_WidgetManager._RegisterWidget('_BlogArchiveView', new _WidgetInfo('BlogArchive1', 'sidebar-right-1', document.getElementById('BlogArchive1'), {'languageDirection': 'ltr', 'loadingMessage': 'Loading\\\\x26hellip;'}, 'displayModeFull'));\\n_WidgetManager._RegisterWidget('_BlogListView', new _WidgetInfo('BlogList1', 'sidebar-right-2-1', document.getElementById('BlogList1'), {'numItemsToShow': 10, 'totalItems': 1}, 'displayModeFull'));\\n_WidgetManager._RegisterWidget('_FollowersView', new _WidgetInfo('Followers1', 'sidebar-right-3', document.getElementById('Followers1'), {}, 'displayModeFull'));\\n_WidgetManager._RegisterWidget('_AttributionView', new _WidgetInfo('Attribution1', 'footer-3', document.getElementById('Attribution1'), {}, 'displayModeFull'));\\n\", '\\n', '\\n']\n"
     ]
    },
    {
     "ename": "AttributeError",
     "evalue": "ResultSet object has no attribute 'text'. You're probably treating a list of items like a single item. Did you call find_all() when you meant to call find()?",
     "output_type": "error",
     "traceback": [
      "\u001b[1;31m---------------------------------------------------------------------------\u001b[0m",
      "\u001b[1;31mAttributeError\u001b[0m                            Traceback (most recent call last)",
      "\u001b[1;32m<ipython-input-53-0b8d14126882>\u001b[0m in \u001b[0;36m<module>\u001b[1;34m()\u001b[0m\n\u001b[0;32m     46\u001b[0m         \u001b[1;31m#    to_clean = result\u001b[0m\u001b[1;33m\u001b[0m\u001b[1;33m\u001b[0m\u001b[0m\n\u001b[0;32m     47\u001b[0m         \u001b[1;32mwith\u001b[0m \u001b[0mopen\u001b[0m\u001b[1;33m(\u001b[0m\u001b[1;34m\"pages/\"\u001b[0m\u001b[1;33m+\u001b[0m \u001b[0mfolder_name\u001b[0m\u001b[1;33m+\u001b[0m\u001b[1;34m\"/\"\u001b[0m \u001b[1;33m+\u001b[0m \u001b[0mstr\u001b[0m\u001b[1;33m(\u001b[0m\u001b[0mpage_cpt\u001b[0m\u001b[1;33m)\u001b[0m\u001b[1;33m+\u001b[0m \u001b[1;34m\".txt\"\u001b[0m\u001b[1;33m,\u001b[0m\u001b[1;34m'w+'\u001b[0m\u001b[1;33m,\u001b[0m \u001b[0mencoding\u001b[0m\u001b[1;33m=\u001b[0m\u001b[1;34m'utf-8'\u001b[0m\u001b[1;33m)\u001b[0m \u001b[1;32mas\u001b[0m \u001b[0mfp_sub\u001b[0m\u001b[1;33m:\u001b[0m\u001b[1;33m\u001b[0m\u001b[0m\n\u001b[1;32m---> 48\u001b[1;33m             \u001b[0mfp_sub\u001b[0m\u001b[1;33m.\u001b[0m\u001b[0mwrite\u001b[0m\u001b[1;33m(\u001b[0m\u001b[0mto_clean\u001b[0m\u001b[1;33m.\u001b[0m\u001b[0mtext\u001b[0m\u001b[1;33m(\u001b[0m\u001b[1;33m)\u001b[0m\u001b[1;33m)\u001b[0m\u001b[1;33m\u001b[0m\u001b[0m\n\u001b[0m\u001b[0;32m     49\u001b[0m         \u001b[1;31m#only work on the 5 first pages\u001b[0m\u001b[1;33m\u001b[0m\u001b[1;33m\u001b[0m\u001b[0m\n\u001b[0;32m     50\u001b[0m         \u001b[1;32mif\u001b[0m \u001b[0mpage_cpt\u001b[0m \u001b[1;33m==\u001b[0m \u001b[1;36m1\u001b[0m\u001b[1;33m:\u001b[0m\u001b[1;33m\u001b[0m\u001b[0m\n",
      "\u001b[1;32m~\\Anaconda3\\lib\\site-packages\\bs4\\element.py\u001b[0m in \u001b[0;36m__getattr__\u001b[1;34m(self, key)\u001b[0m\n\u001b[0;32m   1882\u001b[0m     \u001b[1;32mdef\u001b[0m \u001b[0m__getattr__\u001b[0m\u001b[1;33m(\u001b[0m\u001b[0mself\u001b[0m\u001b[1;33m,\u001b[0m \u001b[0mkey\u001b[0m\u001b[1;33m)\u001b[0m\u001b[1;33m:\u001b[0m\u001b[1;33m\u001b[0m\u001b[0m\n\u001b[0;32m   1883\u001b[0m         raise AttributeError(\n\u001b[1;32m-> 1884\u001b[1;33m             \u001b[1;34m\"ResultSet object has no attribute '%s'. You're probably treating a list of items like a single item. Did you call find_all() when you meant to call find()?\"\u001b[0m \u001b[1;33m%\u001b[0m \u001b[0mkey\u001b[0m\u001b[1;33m\u001b[0m\u001b[0m\n\u001b[0m\u001b[0;32m   1885\u001b[0m         )\n",
      "\u001b[1;31mAttributeError\u001b[0m: ResultSet object has no attribute 'text'. You're probably treating a list of items like a single item. Did you call find_all() when you meant to call find()?"
     ]
    }
   ],
   "source": [
    "for website in pending_websites:\n",
    "    #Create the folder with name hashed - to avoid the special characters\n",
    "    print('We create folder ', hashlib.md5(website.encode('utf-8')).hexdigest(), 'for the site ', site)\n",
    "    folder_name = hashlib.md5(website.encode('utf-8')).hexdigest()\n",
    "    os.mkdir(\"pages/\" + folder_name)    \n",
    "    \n",
    "    \n",
    "    #go to the page, get the html and save it\n",
    "    url =''\n",
    "    #if we don't have the website page, we need to add the http adress (note that the 's' of https seems auto added)\n",
    "    if website[:4]!='http':\n",
    "        url+='http://'\n",
    "    url+=website\n",
    "    p = requests.get(url)\n",
    "    with open(\"pages/\"+ folder_name +'/index.html','w+', encoding='utf-8') as fp:\n",
    "        fp.write(p.text)\n",
    "            \n",
    "    #with all hyperlinks, if they are subpage, go to them and save the html \n",
    "    soup = bs(p.text)\n",
    "    sublinks = set()   \n",
    "        \n",
    "    for link in soup.find_all('a'):\n",
    "        try:\n",
    "            if website in link['href'] or website.lower() in link['href']:\n",
    "                sublinks.add(link['href'])\n",
    "        except KeyError:\n",
    "            #no href in this link\n",
    "            continue\n",
    "    print(str(len(sublinks)) + ' sublinks of the same domain found on this page')\n",
    "    \n",
    "    page_cpt=1 \n",
    "    \n",
    "    for subpage in sublinks:\n",
    "        print('Treating page ',page_cpt,' out of ',len(sublinks),' please wait ...')\n",
    "        p = requests.get(subpage)\n",
    "        \n",
    "        #clean the page\n",
    "        soup = bs(p.text, 'html.parser')\n",
    "        to_clean = soup.findAll(text=True)\n",
    "        print(to_clean)\n",
    "        #regex = [r\"\\/\\*(.*)\\*\\/\",\"\\_(.*)\\;\"]\n",
    "        #subst = \"  \"\n",
    "        #for rex in regex:\n",
    "        #    result = to_clean\n",
    "        #    result = re.sub(rex, subst, to_clean, 0, re.MULTILINE)\n",
    "        #    to_clean = result\n",
    "        with open(\"pages/\"+ folder_name+\"/\" + str(page_cpt)+ \".txt\",'w+', encoding='utf-8') as fp_sub:\n",
    "            fp_sub.write(to_clean.text())     \n",
    "        #only work on the 5 first pages\n",
    "        if page_cpt == 1:\n",
    "            break\n",
    "        page_cpt+=1\n",
    "        #end of the subpage scrapping\n",
    "        time.sleep(2) \n",
    "    #end of the main website scrapping    \n",
    "    time.sleep(2)    \n",
    "    break #test only on the first one\n",
    "    \n",
    "\n",
    "\n"
   ]
  },
  {
   "cell_type": "markdown",
   "metadata": {},
   "source": [
    "website = 'Asweetlife.org'\n",
    "    #folder_name = website\n",
    "    #os.mkdir(\"pages/\" + folder_name)\n",
    "    #pickle for hash md5\n",
    "    \n",
    "url =''\n",
    "    #if we don't have the website page, we need to add the http adress (nte that the 's' of https seems auto added)\n",
    "if website[:3]!='http':\n",
    "    url+='http://'\n",
    "url+=website\n",
    "    \n",
    "    #go to the page, get the html and save it\n",
    "p = requests.get(url)\n",
    "with open(\"pages/\"+ folder_name +\"/index.html\",'w+', encoding='utf-8') as fp:\n",
    "    fp.write(p.text)\n",
    "        \n",
    "    #with all hyperlinks, if they are subpage, go to them and save the html\n",
    "soup = bs(p.text)\n",
    "links = soup.find_all('a')\n",
    "sublinks = set()    \n",
    "for link in links:\n",
    "    if website in link['href'] or website.lower() in link['href']:\n",
    "        sublinks.add(link['href'])            \n",
    "print(str(len(sublinks)) + ' sublinks of the same domain found on this page')\n",
    "page_cpt=1\n",
    "for subpage in sublinks:\n",
    "    print('Treating page ',page_cpt,' out of ',len(sublinks),' please wait ...')\n",
    "    p = requests.get(subpage)\n",
    "    #clean the page\n",
    "    \n",
    "    #save it\n",
    "    with open(\"pages/\"+ folder_name +\"/\" + str(page_cpt)+ \".html\",'w+', encoding='utf-8') as fp:\n",
    "        fp.write(p.text)\n",
    "    #only work on the 5 first pages\n",
    "    if page_cpt == 5:\n",
    "        break\n",
    "    page_cpt+=1    \n",
    "    time.sleep(0.5)"
   ]
  },
  {
   "cell_type": "code",
   "execution_count": null,
   "metadata": {},
   "outputs": [],
   "source": []
  },
  {
   "cell_type": "code",
   "execution_count": null,
   "metadata": {},
   "outputs": [],
   "source": []
  }
 ],
 "metadata": {
  "kernelspec": {
   "display_name": "Python 3",
   "language": "python",
   "name": "python3"
  },
  "language_info": {
   "codemirror_mode": {
    "name": "ipython",
    "version": 3
   },
   "file_extension": ".py",
   "mimetype": "text/x-python",
   "name": "python",
   "nbconvert_exporter": "python",
   "pygments_lexer": "ipython3",
   "version": "3.7.0"
  }
 },
 "nbformat": 4,
 "nbformat_minor": 2
}
