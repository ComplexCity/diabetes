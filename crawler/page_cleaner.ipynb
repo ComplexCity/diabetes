{
 "cells": [
  {
   "cell_type": "code",
   "execution_count": 1,
   "metadata": {},
   "outputs": [],
   "source": [
    "# import\n",
    "from bs4 import BeautifulSoup as bs\n",
    "import re\n",
    "\n",
    "\n"
   ]
  },
  {
   "cell_type": "code",
   "execution_count": 8,
   "metadata": {},
   "outputs": [],
   "source": [
    "with open (\"pages/81e10320712163a7b0a1abf95263c642/index.html\", \"r\") as raw_file:\n",
    "    #cleantext = bs(raw_file, \"lxml\").text\n",
    "    #print(cleantext)\n",
    "    \n",
    "    soup = bs(raw_file, 'html.parser')\n",
    "    to_clean = soup.get_text()\n",
    "    regex = [r\"\\/\\*(.*)\\*\\/\",\"\\_(.*)\\;\"]\n",
    "    subst = \"  \"\n",
    "    for rex in regex:\n",
    "        result = to_clean\n",
    "        result = re.sub(rex, subst, to_clean, 0, re.MULTILINE)\n",
    "        to_clean = result\n",
    "    with open(\"pages/81e10320712163a7b0a1abf95263c642/cleaned4.txt\",'w+', encoding='utf-8') as fp:\n",
    "        fp.write(to_clean)"
   ]
  },
  {
   "cell_type": "code",
   "execution_count": null,
   "metadata": {},
   "outputs": [],
   "source": []
  }
 ],
 "metadata": {
  "kernelspec": {
   "display_name": "Python 3",
   "language": "python",
   "name": "python3"
  },
  "language_info": {
   "codemirror_mode": {
    "name": "ipython",
    "version": 3
   },
   "file_extension": ".py",
   "mimetype": "text/x-python",
   "name": "python",
   "nbconvert_exporter": "python",
   "pygments_lexer": "ipython3",
   "version": "3.7.0"
  }
 },
 "nbformat": 4,
 "nbformat_minor": 2
}
